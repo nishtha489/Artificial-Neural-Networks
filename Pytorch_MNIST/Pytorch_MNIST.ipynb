{
  "nbformat": 4,
  "nbformat_minor": 0,
  "metadata": {
    "colab": {
      "name": "Pytorch_MNIST.ipynb",
      "provenance": [],
      "collapsed_sections": []
    },
    "kernelspec": {
      "name": "python3",
      "display_name": "Python 3"
    },
    "accelerator": "GPU"
  },
  "cells": [
    {
      "cell_type": "markdown",
      "metadata": {
        "id": "kF0hn4MwWxe0",
        "colab_type": "text"
      },
      "source": [
        "## **MNIST Classifier using Pytorch**"
      ]
    },
    {
      "cell_type": "markdown",
      "metadata": {
        "id": "EE5yer7yXHXN",
        "colab_type": "text"
      },
      "source": [
        "<p>In this notebook, we will use pytorch to classify the handwritten digits in the classic MNIST dataset. We will use a convolutional network to enhance to accuracy of our classifier than a regular neural network.</p>"
      ]
    },
    {
      "cell_type": "markdown",
      "metadata": {
        "id": "JVoeU5HMYTWB",
        "colab_type": "text"
      },
      "source": [
        "<p>Let's start by loading libraries.</p>"
      ]
    },
    {
      "cell_type": "code",
      "metadata": {
        "id": "Kwu5Af9AWqyk",
        "colab_type": "code",
        "colab": {}
      },
      "source": [
        "import torch \n",
        "import torchvision\n",
        "import torchvision.transforms as transforms"
      ],
      "execution_count": null,
      "outputs": []
    },
    {
      "cell_type": "markdown",
      "metadata": {
        "id": "0PDY4UfBhQmy",
        "colab_type": "text"
      },
      "source": [
        "Next step is to load and the data into train and testsets."
      ]
    },
    {
      "cell_type": "code",
      "metadata": {
        "id": "NHiOwub-gJUM",
        "colab_type": "code",
        "colab": {}
      },
      "source": [
        "transform = transforms.Compose([\n",
        "                                transforms.ToTensor(),\n",
        "                                transforms.Normalize((0.1307,), (0.3081,))\n",
        "])\n",
        "\n",
        "trainset = torchvision.datasets.MNIST(root='./data', train=True, download=True, transform=transform)\n",
        "trainloader = torch.utils.data.DataLoader(trainset, batch_size = 64, shuffle=True)\n",
        "\n",
        "testset = torchvision.datasets.MNIST(root='./data', train=False, download=True, transform=transform)\n",
        "testloader = torch.utils.data.DataLoader(testset, batch_size = 64, shuffle=False)"
      ],
      "execution_count": null,
      "outputs": []
    },
    {
      "cell_type": "markdown",
      "metadata": {
        "id": "fVnN7Qt5lxlc",
        "colab_type": "text"
      },
      "source": [
        "Analysing the train set."
      ]
    },
    {
      "cell_type": "code",
      "metadata": {
        "id": "SlpnvdqrlMNM",
        "colab_type": "code",
        "colab": {
          "base_uri": "https://localhost:8080/",
          "height": 34
        },
        "outputId": "50172596-6f23-4982-b631-3763cb1ebdb5"
      },
      "source": [
        "dataiter = iter(trainloader)\n",
        "images, labels = dataiter.next()\n",
        "images.shape, labels.shape"
      ],
      "execution_count": null,
      "outputs": [
        {
          "output_type": "execute_result",
          "data": {
            "text/plain": [
              "(torch.Size([64, 1, 28, 28]), torch.Size([64]))"
            ]
          },
          "metadata": {
            "tags": []
          },
          "execution_count": 16
        }
      ]
    },
    {
      "cell_type": "markdown",
      "metadata": {
        "id": "NXUH9b3pmn1e",
        "colab_type": "text"
      },
      "source": [
        "So one train data batch is a  tensor of shape: <code>(torch.Size([64, 1, 28, 28])</code> This means we have 64 examples of 28x28 gray scale images. "
      ]
    },
    {
      "cell_type": "markdown",
      "metadata": {
        "id": "PG1nucj_nAuc",
        "colab_type": "text"
      },
      "source": [
        "Now lets see some of them randomly using matplotlib.\n"
      ]
    },
    {
      "cell_type": "code",
      "metadata": {
        "id": "D_-2zIZvl35h",
        "colab_type": "code",
        "colab": {}
      },
      "source": [
        "import matplotlib.pyplot as plt\n",
        "import numpy as np\n",
        "%matplotlib inline"
      ],
      "execution_count": null,
      "outputs": []
    },
    {
      "cell_type": "code",
      "metadata": {
        "id": "7Gw25M5GnJTB",
        "colab_type": "code",
        "colab": {
          "base_uri": "https://localhost:8080/",
          "height": 590
        },
        "outputId": "86faf292-5498-49ad-a0d3-d7a563a8b49d"
      },
      "source": [
        "plt.figure(figsize = (14, 10))\n",
        "for i in range(6):\n",
        "  plt.subplot(2,3,i+1)\n",
        "  plt.imshow(images[i][0], cmap='gray', interpolation='none')\n",
        "  plt.title(\"Actual Label: {}\".format(labels[i]))\n",
        "plt.show()"
      ],
      "execution_count": null,
      "outputs": [
        {
          "output_type": "display_data",
          "data": {
            "image/png": "[encoded data removed]",
            "text/plain": [
              "<Figure size 1008x720 with 6 Axes>"
            ]
          },
          "metadata": {
            "tags": [],
            "needs_background": "light"
          }
        }
      ]
    },
    {
      "cell_type": "markdown",
      "metadata": {
        "id": "r50FevcIox4-",
        "colab_type": "text"
      },
      "source": [
        "Next we will define the structure of our convolutional network."
      ]
    },
    {
      "cell_type": "code",
      "metadata": {
        "id": "cOGUF3tJoEu4",
        "colab_type": "code",
        "colab": {}
      },
      "source": [
        "import torch.nn as nn\n",
        "import torch.nn.functional as F"
      ],
      "execution_count": null,
      "outputs": []
    },
    {
      "cell_type": "code",
      "metadata": {
        "id": "aodhaumzpKn8",
        "colab_type": "code",
        "colab": {}
      },
      "source": [
        "class Network(nn.Module):\n",
        "  def __init__(self):\n",
        "    super(Network, self).__init__()\n",
        "    self.conv1 = nn.Conv2d(in_channels = 1, out_channels = 32, kernel_size=  3, stride = 1)\n",
        "    self.conv2 = nn.Conv2d(in_channels = 32, out_channels = 64, kernel_size = 3, stride = 1)\n",
        "    self.pool = nn.MaxPool2d(2, stride = 2)\n",
        "    self.pool_dropout = nn.Dropout2d(p = 0.25)\n",
        "    self.fc1 = nn.Linear(in_features = 9216, out_features = 128)\n",
        "    self.fc_dropout = nn.Dropout(p = 0.5) \n",
        "    self.fc2 = nn.Linear(in_features = 128, out_features = 10)\n",
        "\n",
        "  def forward(self, x):\n",
        "    x = F.relu(self.conv1(x))\n",
        "    x = F.relu(self.conv2(x))\n",
        "    x = self.pool_dropout(self.pool(x))\n",
        "    x = x.view(-1, 9216)\n",
        "    x = F.relu(self.fc_dropout(self.fc1(x)))\n",
        "    x = F.log_softmax(self.fc2(x), dim = 1)\n",
        "    return x\n",
        "\n",
        "net = Network()"
      ],
      "execution_count": null,
      "outputs": []
    },
    {
      "cell_type": "markdown",
      "metadata": {
        "id": "NBqZ33UjuAcN",
        "colab_type": "text"
      },
      "source": [
        "Next, lets define the loss and optimizer for the network."
      ]
    },
    {
      "cell_type": "code",
      "metadata": {
        "id": "Q8hBgL-Dt6Nm",
        "colab_type": "code",
        "colab": {}
      },
      "source": [
        "import torch.optim as optim\n",
        "\n",
        "criterion = nn.NLLLoss()\n",
        "optimizer = optim.SGD(net.parameters(), lr=0.003, momentum = 0.7)"
      ],
      "execution_count": null,
      "outputs": []
    },
    {
      "cell_type": "markdown",
      "metadata": {
        "id": "Qxv0i2vwZaLF",
        "colab_type": "text"
      },
      "source": [
        "Define the train function to train the model.\n"
      ]
    },
    {
      "cell_type": "code",
      "metadata": {
        "id": "SVpL5_oE8Z_4",
        "colab_type": "code",
        "colab": {}
      },
      "source": [
        "def train(epoch):\n",
        "  net.train()\n",
        "  for batch_idx, (data, target) in enumerate(trainloader):\n",
        "    optimizer.zero_grad()\n",
        "    output = net(data)\n",
        "    loss = criterion(output, target)\n",
        "    loss.backward()\n",
        "    optimizer.step()\n",
        "    if batch_idx % 20 == 0:\n",
        "      print('Train Epoch: {} [{}/{} ({:.0f}%)]\\tLoss: {:.6f}'.format(\n",
        "        epoch, batch_idx * len(data), len(trainloader.dataset),\n",
        "        100. * batch_idx / len(trainloader), loss.item()))\n",
        "      "
      ],
      "execution_count": null,
      "outputs": []
    },
    {
      "cell_type": "markdown",
      "metadata": {
        "id": "MY7bqJHsZqNJ",
        "colab_type": "text"
      },
      "source": [
        "Define the function to calculate the training loss for the model."
      ]
    },
    {
      "cell_type": "code",
      "metadata": {
        "id": "Lb8reQjMS6fn",
        "colab_type": "code",
        "colab": {}
      },
      "source": [
        "def train_acc():\n",
        "  net.eval()\n",
        "  train_loss = 0\n",
        "  correct = 0\n",
        "  with torch.no_grad():\n",
        "    for data, target in trainloader:\n",
        "      output = net(data)\n",
        "      train_loss += criterion(output, target).item()\n",
        "      pred = output.data.max(1, keepdim=True)[1]\n",
        "      correct += pred.eq(target.data.view_as(pred)).sum()\n",
        "  train_loss /= len(testloader.dataset)\n",
        "  print('\\nTrain set: Avg. loss: {:.4f}, Accuracy: {}/{} ({:.0f}%)\\n'.format(\n",
        "    train_loss, correct, len(trainloader.dataset),\n",
        "    100. * correct / len(trainloader.dataset)))"
      ],
      "execution_count": null,
      "outputs": []
    },
    {
      "cell_type": "markdown",
      "metadata": {
        "id": "cJEnN59NZwcR",
        "colab_type": "text"
      },
      "source": [
        "Define the function to calculate the test loss for the model."
      ]
    },
    {
      "cell_type": "code",
      "metadata": {
        "id": "sQ3NNy9u-6ZT",
        "colab_type": "code",
        "colab": {}
      },
      "source": [
        "def test_acc():\n",
        "  net.eval()\n",
        "  test_loss = 0\n",
        "  correct = 0\n",
        "  with torch.no_grad():\n",
        "    for data, target in testloader:\n",
        "      output = net(data)\n",
        "      test_loss += criterion(output, target).item()\n",
        "      pred = output.data.max(1, keepdim=True)[1]\n",
        "      correct += pred.eq(target.data.view_as(pred)).sum()\n",
        "  test_loss /= len(testloader.dataset)\n",
        "  print('\\nTest set: Avg. loss: {:.4f}, Accuracy: {}/{} ({:.0f}%)\\n'.format(\n",
        "    test_loss, correct, len(testloader.dataset),\n",
        "    100. * correct / len(testloader.dataset)))"
      ],
      "execution_count": null,
      "outputs": []
    },
    {
      "cell_type": "markdown",
      "metadata": {
        "id": "-VgyI0vFZy2Z",
        "colab_type": "text"
      },
      "source": [
        "And finally, train the model for 10 epochs."
      ]
    },
    {
      "cell_type": "code",
      "metadata": {
        "id": "Wj3QUk5G_QxF",
        "colab_type": "code",
        "colab": {
          "base_uri": "https://localhost:8080/",
          "height": 1000
        },
        "outputId": "72a321f1-6a5d-4450-e79c-1b414ab94191"
      },
      "source": [
        "test_acc()\n",
        "for epoch in range(1, 10 + 1):\n",
        "  train(epoch)\n",
        "  train_acc()\n",
        "  test_acc()"
      ],
      "execution_count": null,
      "outputs": [
        {
          "output_type": "stream",
          "text": [
            "\n",
            "Test set: Avg. loss: 0.0362, Accuracy: 1123/10000 (11%)\n",
            "\n",
            "Train Epoch: 1 [0/60000 (0%)]\tLoss: 2.339756\n",
            "Train Epoch: 1 [1280/60000 (2%)]\tLoss: 2.155152\n",
            "Train Epoch: 1 [2560/60000 (4%)]\tLoss: 1.854377\n",
            "Train Epoch: 1 [3840/60000 (6%)]\tLoss: 1.392816\n",
            "Train Epoch: 1 [5120/60000 (9%)]\tLoss: 0.923087\n",
            "Train Epoch: 1 [6400/60000 (11%)]\tLoss: 1.092260\n",
            "Train Epoch: 1 [7680/60000 (13%)]\tLoss: 0.758474\n",
            "Train Epoch: 1 [8960/60000 (15%)]\tLoss: 0.856583\n",
            "Train Epoch: 1 [10240/60000 (17%)]\tLoss: 0.745803\n",
            "Train Epoch: 1 [11520/60000 (19%)]\tLoss: 0.573274\n",
            "Train Epoch: 1 [12800/60000 (21%)]\tLoss: 0.431828\n",
            "Train Epoch: 1 [14080/60000 (23%)]\tLoss: 0.671961\n",
            "Train Epoch: 1 [15360/60000 (26%)]\tLoss: 0.576946\n",
            "Train Epoch: 1 [16640/60000 (28%)]\tLoss: 0.423588\n",
            "Train Epoch: 1 [17920/60000 (30%)]\tLoss: 0.309418\n",
            "Train Epoch: 1 [19200/60000 (32%)]\tLoss: 0.349216\n",
            "Train Epoch: 1 [20480/60000 (34%)]\tLoss: 0.406852\n",
            "Train Epoch: 1 [21760/60000 (36%)]\tLoss: 0.372329\n",
            "Train Epoch: 1 [23040/60000 (38%)]\tLoss: 0.307011\n",
            "Train Epoch: 1 [24320/60000 (41%)]\tLoss: 0.623810\n",
            "Train Epoch: 1 [25600/60000 (43%)]\tLoss: 0.270029\n",
            "Train Epoch: 1 [26880/60000 (45%)]\tLoss: 0.373258\n",
            "Train Epoch: 1 [28160/60000 (47%)]\tLoss: 0.259338\n",
            "Train Epoch: 1 [29440/60000 (49%)]\tLoss: 0.299143\n",
            "Train Epoch: 1 [30720/60000 (51%)]\tLoss: 0.417009\n",
            "Train Epoch: 1 [32000/60000 (53%)]\tLoss: 0.363555\n",
            "Train Epoch: 1 [33280/60000 (55%)]\tLoss: 0.374967\n",
            "Train Epoch: 1 [34560/60000 (58%)]\tLoss: 0.465730\n",
            "Train Epoch: 1 [35840/60000 (60%)]\tLoss: 0.530047\n",
            "Train Epoch: 1 [37120/60000 (62%)]\tLoss: 0.330756\n",
            "Train Epoch: 1 [38400/60000 (64%)]\tLoss: 0.455320\n",
            "Train Epoch: 1 [39680/60000 (66%)]\tLoss: 0.542774\n",
            "Train Epoch: 1 [40960/60000 (68%)]\tLoss: 0.308659\n",
            "Train Epoch: 1 [42240/60000 (70%)]\tLoss: 0.568400\n",
            "Train Epoch: 1 [43520/60000 (72%)]\tLoss: 0.397074\n",
            "Train Epoch: 1 [44800/60000 (75%)]\tLoss: 0.477795\n",
            "Train Epoch: 1 [46080/60000 (77%)]\tLoss: 0.371782\n",
            "Train Epoch: 1 [47360/60000 (79%)]\tLoss: 0.362378\n",
            "Train Epoch: 1 [48640/60000 (81%)]\tLoss: 0.390678\n",
            "Train Epoch: 1 [49920/60000 (83%)]\tLoss: 0.393961\n",
            "Train Epoch: 1 [51200/60000 (85%)]\tLoss: 0.443740\n",
            "Train Epoch: 1 [52480/60000 (87%)]\tLoss: 0.200885\n",
            "Train Epoch: 1 [53760/60000 (90%)]\tLoss: 0.347497\n",
            "Train Epoch: 1 [55040/60000 (92%)]\tLoss: 0.391978\n",
            "Train Epoch: 1 [56320/60000 (94%)]\tLoss: 0.257748\n",
            "Train Epoch: 1 [57600/60000 (96%)]\tLoss: 0.270945\n",
            "Train Epoch: 1 [58880/60000 (98%)]\tLoss: 0.138887\n",
            "\n",
            "Train set: Avg. loss: 0.0198, Accuracy: 56190/60000 (94%)\n",
            "\n",
            "\n",
            "Test set: Avg. loss: 0.0031, Accuracy: 9381/10000 (94%)\n",
            "\n",
            "Train Epoch: 2 [0/60000 (0%)]\tLoss: 0.278053\n",
            "Train Epoch: 2 [1280/60000 (2%)]\tLoss: 0.281680\n",
            "Train Epoch: 2 [2560/60000 (4%)]\tLoss: 0.166141\n",
            "Train Epoch: 2 [3840/60000 (6%)]\tLoss: 0.384414\n",
            "Train Epoch: 2 [5120/60000 (9%)]\tLoss: 0.163931\n",
            "Train Epoch: 2 [6400/60000 (11%)]\tLoss: 0.350166\n",
            "Train Epoch: 2 [7680/60000 (13%)]\tLoss: 0.382715\n",
            "Train Epoch: 2 [8960/60000 (15%)]\tLoss: 0.203745\n",
            "Train Epoch: 2 [10240/60000 (17%)]\tLoss: 0.536163\n",
            "Train Epoch: 2 [11520/60000 (19%)]\tLoss: 0.238499\n",
            "Train Epoch: 2 [12800/60000 (21%)]\tLoss: 0.249946\n",
            "Train Epoch: 2 [14080/60000 (23%)]\tLoss: 0.215197\n",
            "Train Epoch: 2 [15360/60000 (26%)]\tLoss: 0.472949\n",
            "Train Epoch: 2 [16640/60000 (28%)]\tLoss: 0.296389\n",
            "Train Epoch: 2 [17920/60000 (30%)]\tLoss: 0.208993\n",
            "Train Epoch: 2 [19200/60000 (32%)]\tLoss: 0.229294\n",
            "Train Epoch: 2 [20480/60000 (34%)]\tLoss: 0.381899\n",
            "Train Epoch: 2 [21760/60000 (36%)]\tLoss: 0.414446\n",
            "Train Epoch: 2 [23040/60000 (38%)]\tLoss: 0.228537\n",
            "Train Epoch: 2 [24320/60000 (41%)]\tLoss: 0.204573\n",
            "Train Epoch: 2 [25600/60000 (43%)]\tLoss: 0.296868\n",
            "Train Epoch: 2 [26880/60000 (45%)]\tLoss: 0.492471\n",
            "Train Epoch: 2 [28160/60000 (47%)]\tLoss: 0.276346\n",
            "Train Epoch: 2 [29440/60000 (49%)]\tLoss: 0.274243\n",
            "Train Epoch: 2 [30720/60000 (51%)]\tLoss: 0.187489\n",
            "Train Epoch: 2 [32000/60000 (53%)]\tLoss: 0.381336\n",
            "Train Epoch: 2 [33280/60000 (55%)]\tLoss: 0.330711\n",
            "Train Epoch: 2 [34560/60000 (58%)]\tLoss: 0.275984\n",
            "Train Epoch: 2 [35840/60000 (60%)]\tLoss: 0.238724\n",
            "Train Epoch: 2 [37120/60000 (62%)]\tLoss: 0.367085\n",
            "Train Epoch: 2 [38400/60000 (64%)]\tLoss: 0.210560\n",
            "Train Epoch: 2 [39680/60000 (66%)]\tLoss: 0.377826\n",
            "Train Epoch: 2 [40960/60000 (68%)]\tLoss: 0.230038\n",
            "Train Epoch: 2 [42240/60000 (70%)]\tLoss: 0.295755\n",
            "Train Epoch: 2 [43520/60000 (72%)]\tLoss: 0.126658\n",
            "Train Epoch: 2 [44800/60000 (75%)]\tLoss: 0.486899\n",
            "Train Epoch: 2 [46080/60000 (77%)]\tLoss: 0.277327\n",
            "Train Epoch: 2 [47360/60000 (79%)]\tLoss: 0.534977\n",
            "Train Epoch: 2 [48640/60000 (81%)]\tLoss: 0.182538\n",
            "Train Epoch: 2 [49920/60000 (83%)]\tLoss: 0.282029\n",
            "Train Epoch: 2 [51200/60000 (85%)]\tLoss: 0.133889\n",
            "Train Epoch: 2 [52480/60000 (87%)]\tLoss: 0.230256\n",
            "Train Epoch: 2 [53760/60000 (90%)]\tLoss: 0.187373\n",
            "Train Epoch: 2 [55040/60000 (92%)]\tLoss: 0.258903\n",
            "Train Epoch: 2 [56320/60000 (94%)]\tLoss: 0.290147\n",
            "Train Epoch: 2 [57600/60000 (96%)]\tLoss: 0.203344\n",
            "Train Epoch: 2 [58880/60000 (98%)]\tLoss: 0.093443\n",
            "\n",
            "Train set: Avg. loss: 0.0150, Accuracy: 57021/60000 (95%)\n",
            "\n",
            "\n",
            "Test set: Avg. loss: 0.0024, Accuracy: 9530/10000 (95%)\n",
            "\n",
            "Train Epoch: 3 [0/60000 (0%)]\tLoss: 0.130191\n",
            "Train Epoch: 3 [1280/60000 (2%)]\tLoss: 0.175888\n",
            "Train Epoch: 3 [2560/60000 (4%)]\tLoss: 0.241407\n",
            "Train Epoch: 3 [3840/60000 (6%)]\tLoss: 0.191231\n",
            "Train Epoch: 3 [5120/60000 (9%)]\tLoss: 0.250710\n",
            "Train Epoch: 3 [6400/60000 (11%)]\tLoss: 0.174566\n",
            "Train Epoch: 3 [7680/60000 (13%)]\tLoss: 0.390952\n",
            "Train Epoch: 3 [8960/60000 (15%)]\tLoss: 0.234756\n",
            "Train Epoch: 3 [10240/60000 (17%)]\tLoss: 0.155335\n",
            "Train Epoch: 3 [11520/60000 (19%)]\tLoss: 0.225247\n",
            "Train Epoch: 3 [12800/60000 (21%)]\tLoss: 0.107445\n",
            "Train Epoch: 3 [14080/60000 (23%)]\tLoss: 0.289607\n",
            "Train Epoch: 3 [15360/60000 (26%)]\tLoss: 0.158754\n",
            "Train Epoch: 3 [16640/60000 (28%)]\tLoss: 0.134557\n",
            "Train Epoch: 3 [17920/60000 (30%)]\tLoss: 0.226097\n",
            "Train Epoch: 3 [19200/60000 (32%)]\tLoss: 0.082406\n",
            "Train Epoch: 3 [20480/60000 (34%)]\tLoss: 0.271667\n",
            "Train Epoch: 3 [21760/60000 (36%)]\tLoss: 0.195408\n",
            "Train Epoch: 3 [23040/60000 (38%)]\tLoss: 0.196660\n",
            "Train Epoch: 3 [24320/60000 (41%)]\tLoss: 0.321174\n",
            "Train Epoch: 3 [25600/60000 (43%)]\tLoss: 0.274845\n",
            "Train Epoch: 3 [26880/60000 (45%)]\tLoss: 0.207021\n",
            "Train Epoch: 3 [28160/60000 (47%)]\tLoss: 0.148821\n",
            "Train Epoch: 3 [29440/60000 (49%)]\tLoss: 0.122477\n",
            "Train Epoch: 3 [30720/60000 (51%)]\tLoss: 0.182051\n",
            "Train Epoch: 3 [32000/60000 (53%)]\tLoss: 0.230900\n",
            "Train Epoch: 3 [33280/60000 (55%)]\tLoss: 0.254132\n",
            "Train Epoch: 3 [34560/60000 (58%)]\tLoss: 0.078441\n",
            "Train Epoch: 3 [35840/60000 (60%)]\tLoss: 0.232206\n",
            "Train Epoch: 3 [37120/60000 (62%)]\tLoss: 0.117935\n",
            "Train Epoch: 3 [38400/60000 (64%)]\tLoss: 0.314567\n",
            "Train Epoch: 3 [39680/60000 (66%)]\tLoss: 0.212634\n",
            "Train Epoch: 3 [40960/60000 (68%)]\tLoss: 0.338804\n",
            "Train Epoch: 3 [42240/60000 (70%)]\tLoss: 0.281101\n",
            "Train Epoch: 3 [43520/60000 (72%)]\tLoss: 0.146388\n",
            "Train Epoch: 3 [44800/60000 (75%)]\tLoss: 0.244161\n",
            "Train Epoch: 3 [46080/60000 (77%)]\tLoss: 0.162862\n",
            "Train Epoch: 3 [47360/60000 (79%)]\tLoss: 0.203540\n",
            "Train Epoch: 3 [48640/60000 (81%)]\tLoss: 0.312508\n",
            "Train Epoch: 3 [49920/60000 (83%)]\tLoss: 0.130834\n",
            "Train Epoch: 3 [51200/60000 (85%)]\tLoss: 0.498314\n",
            "Train Epoch: 3 [52480/60000 (87%)]\tLoss: 0.194320\n",
            "Train Epoch: 3 [53760/60000 (90%)]\tLoss: 0.239199\n",
            "Train Epoch: 3 [55040/60000 (92%)]\tLoss: 0.326254\n",
            "Train Epoch: 3 [56320/60000 (94%)]\tLoss: 0.176291\n",
            "Train Epoch: 3 [57600/60000 (96%)]\tLoss: 0.246368\n",
            "Train Epoch: 3 [58880/60000 (98%)]\tLoss: 0.142544\n",
            "\n",
            "Train set: Avg. loss: 0.0116, Accuracy: 57739/60000 (96%)\n",
            "\n",
            "\n",
            "Test set: Avg. loss: 0.0019, Accuracy: 9626/10000 (96%)\n",
            "\n",
            "Train Epoch: 4 [0/60000 (0%)]\tLoss: 0.141169\n",
            "Train Epoch: 4 [1280/60000 (2%)]\tLoss: 0.286512\n",
            "Train Epoch: 4 [2560/60000 (4%)]\tLoss: 0.090197\n",
            "Train Epoch: 4 [3840/60000 (6%)]\tLoss: 0.152563\n",
            "Train Epoch: 4 [5120/60000 (9%)]\tLoss: 0.134930\n",
            "Train Epoch: 4 [6400/60000 (11%)]\tLoss: 0.130760\n",
            "Train Epoch: 4 [7680/60000 (13%)]\tLoss: 0.203221\n",
            "Train Epoch: 4 [8960/60000 (15%)]\tLoss: 0.158887\n",
            "Train Epoch: 4 [10240/60000 (17%)]\tLoss: 0.189313\n",
            "Train Epoch: 4 [11520/60000 (19%)]\tLoss: 0.121181\n",
            "Train Epoch: 4 [12800/60000 (21%)]\tLoss: 0.245770\n",
            "Train Epoch: 4 [14080/60000 (23%)]\tLoss: 0.244386\n",
            "Train Epoch: 4 [15360/60000 (26%)]\tLoss: 0.174487\n",
            "Train Epoch: 4 [16640/60000 (28%)]\tLoss: 0.444985\n",
            "Train Epoch: 4 [17920/60000 (30%)]\tLoss: 0.164303\n",
            "Train Epoch: 4 [19200/60000 (32%)]\tLoss: 0.212582\n",
            "Train Epoch: 4 [20480/60000 (34%)]\tLoss: 0.133946\n",
            "Train Epoch: 4 [21760/60000 (36%)]\tLoss: 0.249419\n",
            "Train Epoch: 4 [23040/60000 (38%)]\tLoss: 0.209512\n",
            "Train Epoch: 4 [24320/60000 (41%)]\tLoss: 0.072595\n",
            "Train Epoch: 4 [25600/60000 (43%)]\tLoss: 0.133657\n",
            "Train Epoch: 4 [26880/60000 (45%)]\tLoss: 0.243682\n",
            "Train Epoch: 4 [28160/60000 (47%)]\tLoss: 0.263459\n",
            "Train Epoch: 4 [29440/60000 (49%)]\tLoss: 0.074472\n",
            "Train Epoch: 4 [30720/60000 (51%)]\tLoss: 0.117824\n",
            "Train Epoch: 4 [32000/60000 (53%)]\tLoss: 0.198958\n",
            "Train Epoch: 4 [33280/60000 (55%)]\tLoss: 0.129481\n",
            "Train Epoch: 4 [34560/60000 (58%)]\tLoss: 0.130194\n",
            "Train Epoch: 4 [35840/60000 (60%)]\tLoss: 0.217950\n",
            "Train Epoch: 4 [37120/60000 (62%)]\tLoss: 0.203524\n",
            "Train Epoch: 4 [38400/60000 (64%)]\tLoss: 0.076236\n",
            "Train Epoch: 4 [39680/60000 (66%)]\tLoss: 0.068507\n",
            "Train Epoch: 4 [40960/60000 (68%)]\tLoss: 0.242657\n",
            "Train Epoch: 4 [42240/60000 (70%)]\tLoss: 0.296839\n",
            "Train Epoch: 4 [43520/60000 (72%)]\tLoss: 0.258195\n",
            "Train Epoch: 4 [44800/60000 (75%)]\tLoss: 0.121577\n",
            "Train Epoch: 4 [46080/60000 (77%)]\tLoss: 0.056858\n",
            "Train Epoch: 4 [47360/60000 (79%)]\tLoss: 0.307739\n",
            "Train Epoch: 4 [48640/60000 (81%)]\tLoss: 0.261225\n",
            "Train Epoch: 4 [49920/60000 (83%)]\tLoss: 0.289988\n",
            "Train Epoch: 4 [51200/60000 (85%)]\tLoss: 0.239711\n",
            "Train Epoch: 4 [52480/60000 (87%)]\tLoss: 0.270618\n",
            "Train Epoch: 4 [53760/60000 (90%)]\tLoss: 0.388734\n",
            "Train Epoch: 4 [55040/60000 (92%)]\tLoss: 0.124656\n",
            "Train Epoch: 4 [56320/60000 (94%)]\tLoss: 0.244896\n",
            "Train Epoch: 4 [57600/60000 (96%)]\tLoss: 0.342869\n",
            "Train Epoch: 4 [58880/60000 (98%)]\tLoss: 0.160276\n",
            "\n",
            "Train set: Avg. loss: 0.0100, Accuracy: 58079/60000 (97%)\n",
            "\n",
            "\n",
            "Test set: Avg. loss: 0.0016, Accuracy: 9686/10000 (97%)\n",
            "\n",
            "Train Epoch: 5 [0/60000 (0%)]\tLoss: 0.211336\n",
            "Train Epoch: 5 [1280/60000 (2%)]\tLoss: 0.288479\n",
            "Train Epoch: 5 [2560/60000 (4%)]\tLoss: 0.053569\n",
            "Train Epoch: 5 [3840/60000 (6%)]\tLoss: 0.316136\n",
            "Train Epoch: 5 [5120/60000 (9%)]\tLoss: 0.122224\n",
            "Train Epoch: 5 [6400/60000 (11%)]\tLoss: 0.188543\n",
            "Train Epoch: 5 [7680/60000 (13%)]\tLoss: 0.141770\n",
            "Train Epoch: 5 [8960/60000 (15%)]\tLoss: 0.208637\n",
            "Train Epoch: 5 [10240/60000 (17%)]\tLoss: 0.157961\n",
            "Train Epoch: 5 [11520/60000 (19%)]\tLoss: 0.108863\n",
            "Train Epoch: 5 [12800/60000 (21%)]\tLoss: 0.073778\n",
            "Train Epoch: 5 [14080/60000 (23%)]\tLoss: 0.086188\n",
            "Train Epoch: 5 [15360/60000 (26%)]\tLoss: 0.143313\n",
            "Train Epoch: 5 [16640/60000 (28%)]\tLoss: 0.141239\n",
            "Train Epoch: 5 [17920/60000 (30%)]\tLoss: 0.220879\n",
            "Train Epoch: 5 [19200/60000 (32%)]\tLoss: 0.052138\n",
            "Train Epoch: 5 [20480/60000 (34%)]\tLoss: 0.186516\n",
            "Train Epoch: 5 [21760/60000 (36%)]\tLoss: 0.101868\n",
            "Train Epoch: 5 [23040/60000 (38%)]\tLoss: 0.209463\n",
            "Train Epoch: 5 [24320/60000 (41%)]\tLoss: 0.126679\n",
            "Train Epoch: 5 [25600/60000 (43%)]\tLoss: 0.118794\n",
            "Train Epoch: 5 [26880/60000 (45%)]\tLoss: 0.307323\n",
            "Train Epoch: 5 [28160/60000 (47%)]\tLoss: 0.063346\n",
            "Train Epoch: 5 [29440/60000 (49%)]\tLoss: 0.176006\n",
            "Train Epoch: 5 [30720/60000 (51%)]\tLoss: 0.172734\n",
            "Train Epoch: 5 [32000/60000 (53%)]\tLoss: 0.143614\n",
            "Train Epoch: 5 [33280/60000 (55%)]\tLoss: 0.067070\n",
            "Train Epoch: 5 [34560/60000 (58%)]\tLoss: 0.115915\n",
            "Train Epoch: 5 [35840/60000 (60%)]\tLoss: 0.187817\n",
            "Train Epoch: 5 [37120/60000 (62%)]\tLoss: 0.095605\n",
            "Train Epoch: 5 [38400/60000 (64%)]\tLoss: 0.116683\n",
            "Train Epoch: 5 [39680/60000 (66%)]\tLoss: 0.217721\n",
            "Train Epoch: 5 [40960/60000 (68%)]\tLoss: 0.124600\n",
            "Train Epoch: 5 [42240/60000 (70%)]\tLoss: 0.239201\n",
            "Train Epoch: 5 [43520/60000 (72%)]\tLoss: 0.296272\n",
            "Train Epoch: 5 [44800/60000 (75%)]\tLoss: 0.291307\n",
            "Train Epoch: 5 [46080/60000 (77%)]\tLoss: 0.134911\n",
            "Train Epoch: 5 [47360/60000 (79%)]\tLoss: 0.153157\n",
            "Train Epoch: 5 [48640/60000 (81%)]\tLoss: 0.141897\n",
            "Train Epoch: 5 [49920/60000 (83%)]\tLoss: 0.176009\n",
            "Train Epoch: 5 [51200/60000 (85%)]\tLoss: 0.194187\n",
            "Train Epoch: 5 [52480/60000 (87%)]\tLoss: 0.161052\n",
            "Train Epoch: 5 [53760/60000 (90%)]\tLoss: 0.108371\n",
            "Train Epoch: 5 [55040/60000 (92%)]\tLoss: 0.056145\n",
            "Train Epoch: 5 [56320/60000 (94%)]\tLoss: 0.160551\n",
            "Train Epoch: 5 [57600/60000 (96%)]\tLoss: 0.265928\n",
            "Train Epoch: 5 [58880/60000 (98%)]\tLoss: 0.173391\n",
            "\n",
            "Train set: Avg. loss: 0.0080, Accuracy: 58464/60000 (97%)\n",
            "\n",
            "\n",
            "Test set: Avg. loss: 0.0014, Accuracy: 9732/10000 (97%)\n",
            "\n",
            "Train Epoch: 6 [0/60000 (0%)]\tLoss: 0.103649\n",
            "Train Epoch: 6 [1280/60000 (2%)]\tLoss: 0.181009\n",
            "Train Epoch: 6 [2560/60000 (4%)]\tLoss: 0.176486\n",
            "Train Epoch: 6 [3840/60000 (6%)]\tLoss: 0.194481\n",
            "Train Epoch: 6 [5120/60000 (9%)]\tLoss: 0.129784\n",
            "Train Epoch: 6 [6400/60000 (11%)]\tLoss: 0.142406\n",
            "Train Epoch: 6 [7680/60000 (13%)]\tLoss: 0.055992\n",
            "Train Epoch: 6 [8960/60000 (15%)]\tLoss: 0.168827\n",
            "Train Epoch: 6 [10240/60000 (17%)]\tLoss: 0.086031\n",
            "Train Epoch: 6 [11520/60000 (19%)]\tLoss: 0.294398\n",
            "Train Epoch: 6 [12800/60000 (21%)]\tLoss: 0.231623\n",
            "Train Epoch: 6 [14080/60000 (23%)]\tLoss: 0.190804\n",
            "Train Epoch: 6 [15360/60000 (26%)]\tLoss: 0.201204\n",
            "Train Epoch: 6 [16640/60000 (28%)]\tLoss: 0.160091\n",
            "Train Epoch: 6 [17920/60000 (30%)]\tLoss: 0.094782\n",
            "Train Epoch: 6 [19200/60000 (32%)]\tLoss: 0.228888\n",
            "Train Epoch: 6 [20480/60000 (34%)]\tLoss: 0.190687\n",
            "Train Epoch: 6 [21760/60000 (36%)]\tLoss: 0.110712\n",
            "Train Epoch: 6 [23040/60000 (38%)]\tLoss: 0.192584\n",
            "Train Epoch: 6 [24320/60000 (41%)]\tLoss: 0.195718\n",
            "Train Epoch: 6 [25600/60000 (43%)]\tLoss: 0.189185\n",
            "Train Epoch: 6 [26880/60000 (45%)]\tLoss: 0.128948\n",
            "Train Epoch: 6 [28160/60000 (47%)]\tLoss: 0.116304\n",
            "Train Epoch: 6 [29440/60000 (49%)]\tLoss: 0.165201\n",
            "Train Epoch: 6 [30720/60000 (51%)]\tLoss: 0.250813\n",
            "Train Epoch: 6 [32000/60000 (53%)]\tLoss: 0.111726\n",
            "Train Epoch: 6 [33280/60000 (55%)]\tLoss: 0.116019\n",
            "Train Epoch: 6 [34560/60000 (58%)]\tLoss: 0.261786\n",
            "Train Epoch: 6 [35840/60000 (60%)]\tLoss: 0.177824\n",
            "Train Epoch: 6 [37120/60000 (62%)]\tLoss: 0.115040\n",
            "Train Epoch: 6 [38400/60000 (64%)]\tLoss: 0.072590\n",
            "Train Epoch: 6 [39680/60000 (66%)]\tLoss: 0.203065\n",
            "Train Epoch: 6 [40960/60000 (68%)]\tLoss: 0.226756\n",
            "Train Epoch: 6 [42240/60000 (70%)]\tLoss: 0.125208\n",
            "Train Epoch: 6 [43520/60000 (72%)]\tLoss: 0.114436\n",
            "Train Epoch: 6 [44800/60000 (75%)]\tLoss: 0.111795\n",
            "Train Epoch: 6 [46080/60000 (77%)]\tLoss: 0.181554\n",
            "Train Epoch: 6 [47360/60000 (79%)]\tLoss: 0.061043\n",
            "Train Epoch: 6 [48640/60000 (81%)]\tLoss: 0.178415\n",
            "Train Epoch: 6 [49920/60000 (83%)]\tLoss: 0.058547\n",
            "Train Epoch: 6 [51200/60000 (85%)]\tLoss: 0.193972\n",
            "Train Epoch: 6 [52480/60000 (87%)]\tLoss: 0.094798\n",
            "Train Epoch: 6 [53760/60000 (90%)]\tLoss: 0.058293\n",
            "Train Epoch: 6 [55040/60000 (92%)]\tLoss: 0.304819\n",
            "Train Epoch: 6 [56320/60000 (94%)]\tLoss: 0.096305\n",
            "Train Epoch: 6 [57600/60000 (96%)]\tLoss: 0.154343\n",
            "Train Epoch: 6 [58880/60000 (98%)]\tLoss: 0.162082\n",
            "\n",
            "Train set: Avg. loss: 0.0067, Accuracy: 58718/60000 (98%)\n",
            "\n",
            "\n",
            "Test set: Avg. loss: 0.0011, Accuracy: 9776/10000 (98%)\n",
            "\n",
            "Train Epoch: 7 [0/60000 (0%)]\tLoss: 0.094429\n",
            "Train Epoch: 7 [1280/60000 (2%)]\tLoss: 0.209632\n",
            "Train Epoch: 7 [2560/60000 (4%)]\tLoss: 0.143658\n",
            "Train Epoch: 7 [3840/60000 (6%)]\tLoss: 0.180613\n",
            "Train Epoch: 7 [5120/60000 (9%)]\tLoss: 0.157533\n",
            "Train Epoch: 7 [6400/60000 (11%)]\tLoss: 0.090570\n",
            "Train Epoch: 7 [7680/60000 (13%)]\tLoss: 0.127574\n",
            "Train Epoch: 7 [8960/60000 (15%)]\tLoss: 0.083547\n",
            "Train Epoch: 7 [10240/60000 (17%)]\tLoss: 0.073697\n",
            "Train Epoch: 7 [11520/60000 (19%)]\tLoss: 0.095807\n",
            "Train Epoch: 7 [12800/60000 (21%)]\tLoss: 0.208374\n",
            "Train Epoch: 7 [14080/60000 (23%)]\tLoss: 0.114072\n",
            "Train Epoch: 7 [15360/60000 (26%)]\tLoss: 0.095776\n",
            "Train Epoch: 7 [16640/60000 (28%)]\tLoss: 0.109152\n",
            "Train Epoch: 7 [17920/60000 (30%)]\tLoss: 0.106658\n",
            "Train Epoch: 7 [19200/60000 (32%)]\tLoss: 0.040871\n",
            "Train Epoch: 7 [20480/60000 (34%)]\tLoss: 0.159131\n",
            "Train Epoch: 7 [21760/60000 (36%)]\tLoss: 0.146114\n",
            "Train Epoch: 7 [23040/60000 (38%)]\tLoss: 0.166843\n",
            "Train Epoch: 7 [24320/60000 (41%)]\tLoss: 0.046140\n",
            "Train Epoch: 7 [25600/60000 (43%)]\tLoss: 0.054044\n",
            "Train Epoch: 7 [26880/60000 (45%)]\tLoss: 0.236012\n",
            "Train Epoch: 7 [28160/60000 (47%)]\tLoss: 0.217721\n",
            "Train Epoch: 7 [29440/60000 (49%)]\tLoss: 0.049688\n",
            "Train Epoch: 7 [30720/60000 (51%)]\tLoss: 0.275336\n",
            "Train Epoch: 7 [32000/60000 (53%)]\tLoss: 0.139475\n",
            "Train Epoch: 7 [33280/60000 (55%)]\tLoss: 0.066119\n",
            "Train Epoch: 7 [34560/60000 (58%)]\tLoss: 0.067577\n",
            "Train Epoch: 7 [35840/60000 (60%)]\tLoss: 0.209206\n",
            "Train Epoch: 7 [37120/60000 (62%)]\tLoss: 0.166536\n",
            "Train Epoch: 7 [38400/60000 (64%)]\tLoss: 0.051462\n",
            "Train Epoch: 7 [39680/60000 (66%)]\tLoss: 0.118924\n",
            "Train Epoch: 7 [40960/60000 (68%)]\tLoss: 0.100670\n",
            "Train Epoch: 7 [42240/60000 (70%)]\tLoss: 0.183549\n",
            "Train Epoch: 7 [43520/60000 (72%)]\tLoss: 0.160535\n",
            "Train Epoch: 7 [44800/60000 (75%)]\tLoss: 0.093479\n",
            "Train Epoch: 7 [46080/60000 (77%)]\tLoss: 0.173545\n",
            "Train Epoch: 7 [47360/60000 (79%)]\tLoss: 0.141507\n",
            "Train Epoch: 7 [48640/60000 (81%)]\tLoss: 0.056939\n",
            "Train Epoch: 7 [49920/60000 (83%)]\tLoss: 0.180068\n",
            "Train Epoch: 7 [51200/60000 (85%)]\tLoss: 0.152105\n",
            "Train Epoch: 7 [52480/60000 (87%)]\tLoss: 0.064046\n",
            "Train Epoch: 7 [53760/60000 (90%)]\tLoss: 0.235043\n",
            "Train Epoch: 7 [55040/60000 (92%)]\tLoss: 0.150728\n",
            "Train Epoch: 7 [56320/60000 (94%)]\tLoss: 0.069278\n",
            "Train Epoch: 7 [57600/60000 (96%)]\tLoss: 0.188017\n",
            "Train Epoch: 7 [58880/60000 (98%)]\tLoss: 0.026072\n",
            "\n",
            "Train set: Avg. loss: 0.0058, Accuracy: 58915/60000 (98%)\n",
            "\n",
            "\n",
            "Test set: Avg. loss: 0.0010, Accuracy: 9807/10000 (98%)\n",
            "\n",
            "Train Epoch: 8 [0/60000 (0%)]\tLoss: 0.220725\n",
            "Train Epoch: 8 [1280/60000 (2%)]\tLoss: 0.134295\n",
            "Train Epoch: 8 [2560/60000 (4%)]\tLoss: 0.168710\n",
            "Train Epoch: 8 [3840/60000 (6%)]\tLoss: 0.149592\n",
            "Train Epoch: 8 [5120/60000 (9%)]\tLoss: 0.119617\n",
            "Train Epoch: 8 [6400/60000 (11%)]\tLoss: 0.113152\n",
            "Train Epoch: 8 [7680/60000 (13%)]\tLoss: 0.052456\n",
            "Train Epoch: 8 [8960/60000 (15%)]\tLoss: 0.198587\n",
            "Train Epoch: 8 [10240/60000 (17%)]\tLoss: 0.224247\n",
            "Train Epoch: 8 [11520/60000 (19%)]\tLoss: 0.193387\n",
            "Train Epoch: 8 [12800/60000 (21%)]\tLoss: 0.080691\n",
            "Train Epoch: 8 [14080/60000 (23%)]\tLoss: 0.068982\n",
            "Train Epoch: 8 [15360/60000 (26%)]\tLoss: 0.125766\n",
            "Train Epoch: 8 [16640/60000 (28%)]\tLoss: 0.213584\n",
            "Train Epoch: 8 [17920/60000 (30%)]\tLoss: 0.101444\n",
            "Train Epoch: 8 [19200/60000 (32%)]\tLoss: 0.046240\n",
            "Train Epoch: 8 [20480/60000 (34%)]\tLoss: 0.184797\n",
            "Train Epoch: 8 [21760/60000 (36%)]\tLoss: 0.069655\n",
            "Train Epoch: 8 [23040/60000 (38%)]\tLoss: 0.062199\n",
            "Train Epoch: 8 [24320/60000 (41%)]\tLoss: 0.081730\n",
            "Train Epoch: 8 [25600/60000 (43%)]\tLoss: 0.081443\n",
            "Train Epoch: 8 [26880/60000 (45%)]\tLoss: 0.081329\n",
            "Train Epoch: 8 [28160/60000 (47%)]\tLoss: 0.136318\n",
            "Train Epoch: 8 [29440/60000 (49%)]\tLoss: 0.128066\n",
            "Train Epoch: 8 [30720/60000 (51%)]\tLoss: 0.091298\n",
            "Train Epoch: 8 [32000/60000 (53%)]\tLoss: 0.202086\n",
            "Train Epoch: 8 [33280/60000 (55%)]\tLoss: 0.134399\n",
            "Train Epoch: 8 [34560/60000 (58%)]\tLoss: 0.136671\n",
            "Train Epoch: 8 [35840/60000 (60%)]\tLoss: 0.111635\n",
            "Train Epoch: 8 [37120/60000 (62%)]\tLoss: 0.088236\n",
            "Train Epoch: 8 [38400/60000 (64%)]\tLoss: 0.035615\n",
            "Train Epoch: 8 [39680/60000 (66%)]\tLoss: 0.090903\n",
            "Train Epoch: 8 [40960/60000 (68%)]\tLoss: 0.110867\n",
            "Train Epoch: 8 [42240/60000 (70%)]\tLoss: 0.110250\n",
            "Train Epoch: 8 [43520/60000 (72%)]\tLoss: 0.055415\n",
            "Train Epoch: 8 [44800/60000 (75%)]\tLoss: 0.147897\n",
            "Train Epoch: 8 [46080/60000 (77%)]\tLoss: 0.101897\n",
            "Train Epoch: 8 [47360/60000 (79%)]\tLoss: 0.089958\n",
            "Train Epoch: 8 [48640/60000 (81%)]\tLoss: 0.055840\n",
            "Train Epoch: 8 [49920/60000 (83%)]\tLoss: 0.017800\n",
            "Train Epoch: 8 [51200/60000 (85%)]\tLoss: 0.083467\n",
            "Train Epoch: 8 [52480/60000 (87%)]\tLoss: 0.077688\n",
            "Train Epoch: 8 [53760/60000 (90%)]\tLoss: 0.073904\n",
            "Train Epoch: 8 [55040/60000 (92%)]\tLoss: 0.234973\n",
            "Train Epoch: 8 [56320/60000 (94%)]\tLoss: 0.107870\n",
            "Train Epoch: 8 [57600/60000 (96%)]\tLoss: 0.047277\n",
            "Train Epoch: 8 [58880/60000 (98%)]\tLoss: 0.104489\n",
            "\n",
            "Train set: Avg. loss: 0.0050, Accuracy: 59039/60000 (98%)\n",
            "\n",
            "\n",
            "Test set: Avg. loss: 0.0009, Accuracy: 9829/10000 (98%)\n",
            "\n",
            "Train Epoch: 9 [0/60000 (0%)]\tLoss: 0.143310\n",
            "Train Epoch: 9 [1280/60000 (2%)]\tLoss: 0.053524\n",
            "Train Epoch: 9 [2560/60000 (4%)]\tLoss: 0.122715\n",
            "Train Epoch: 9 [3840/60000 (6%)]\tLoss: 0.131095\n",
            "Train Epoch: 9 [5120/60000 (9%)]\tLoss: 0.089252\n",
            "Train Epoch: 9 [6400/60000 (11%)]\tLoss: 0.065883\n",
            "Train Epoch: 9 [7680/60000 (13%)]\tLoss: 0.097598\n",
            "Train Epoch: 9 [8960/60000 (15%)]\tLoss: 0.034660\n",
            "Train Epoch: 9 [10240/60000 (17%)]\tLoss: 0.073191\n",
            "Train Epoch: 9 [11520/60000 (19%)]\tLoss: 0.075903\n",
            "Train Epoch: 9 [12800/60000 (21%)]\tLoss: 0.069457\n",
            "Train Epoch: 9 [14080/60000 (23%)]\tLoss: 0.038227\n",
            "Train Epoch: 9 [15360/60000 (26%)]\tLoss: 0.061935\n",
            "Train Epoch: 9 [16640/60000 (28%)]\tLoss: 0.194954\n",
            "Train Epoch: 9 [17920/60000 (30%)]\tLoss: 0.077229\n",
            "Train Epoch: 9 [19200/60000 (32%)]\tLoss: 0.046172\n",
            "Train Epoch: 9 [20480/60000 (34%)]\tLoss: 0.037596\n",
            "Train Epoch: 9 [21760/60000 (36%)]\tLoss: 0.053080\n",
            "Train Epoch: 9 [23040/60000 (38%)]\tLoss: 0.167259\n",
            "Train Epoch: 9 [24320/60000 (41%)]\tLoss: 0.081720\n",
            "Train Epoch: 9 [25600/60000 (43%)]\tLoss: 0.243280\n",
            "Train Epoch: 9 [26880/60000 (45%)]\tLoss: 0.051043\n",
            "Train Epoch: 9 [28160/60000 (47%)]\tLoss: 0.051916\n",
            "Train Epoch: 9 [29440/60000 (49%)]\tLoss: 0.119696\n",
            "Train Epoch: 9 [30720/60000 (51%)]\tLoss: 0.092941\n",
            "Train Epoch: 9 [32000/60000 (53%)]\tLoss: 0.258075\n",
            "Train Epoch: 9 [33280/60000 (55%)]\tLoss: 0.073676\n",
            "Train Epoch: 9 [34560/60000 (58%)]\tLoss: 0.078550\n",
            "Train Epoch: 9 [35840/60000 (60%)]\tLoss: 0.192084\n",
            "Train Epoch: 9 [37120/60000 (62%)]\tLoss: 0.086131\n",
            "Train Epoch: 9 [38400/60000 (64%)]\tLoss: 0.100983\n",
            "Train Epoch: 9 [39680/60000 (66%)]\tLoss: 0.190577\n",
            "Train Epoch: 9 [40960/60000 (68%)]\tLoss: 0.062735\n",
            "Train Epoch: 9 [42240/60000 (70%)]\tLoss: 0.136404\n",
            "Train Epoch: 9 [43520/60000 (72%)]\tLoss: 0.065860\n",
            "Train Epoch: 9 [44800/60000 (75%)]\tLoss: 0.101921\n",
            "Train Epoch: 9 [46080/60000 (77%)]\tLoss: 0.164111\n",
            "Train Epoch: 9 [47360/60000 (79%)]\tLoss: 0.052009\n",
            "Train Epoch: 9 [48640/60000 (81%)]\tLoss: 0.065583\n",
            "Train Epoch: 9 [49920/60000 (83%)]\tLoss: 0.104573\n",
            "Train Epoch: 9 [51200/60000 (85%)]\tLoss: 0.110994\n",
            "Train Epoch: 9 [52480/60000 (87%)]\tLoss: 0.032336\n",
            "Train Epoch: 9 [53760/60000 (90%)]\tLoss: 0.058639\n",
            "Train Epoch: 9 [55040/60000 (92%)]\tLoss: 0.037567\n",
            "Train Epoch: 9 [56320/60000 (94%)]\tLoss: 0.230198\n",
            "Train Epoch: 9 [57600/60000 (96%)]\tLoss: 0.054290\n",
            "Train Epoch: 9 [58880/60000 (98%)]\tLoss: 0.039720\n",
            "\n",
            "Train set: Avg. loss: 0.0044, Accuracy: 59159/60000 (99%)\n",
            "\n",
            "\n",
            "Test set: Avg. loss: 0.0008, Accuracy: 9843/10000 (98%)\n",
            "\n",
            "Train Epoch: 10 [0/60000 (0%)]\tLoss: 0.037985\n",
            "Train Epoch: 10 [1280/60000 (2%)]\tLoss: 0.047601\n",
            "Train Epoch: 10 [2560/60000 (4%)]\tLoss: 0.036419\n",
            "Train Epoch: 10 [3840/60000 (6%)]\tLoss: 0.178856\n",
            "Train Epoch: 10 [5120/60000 (9%)]\tLoss: 0.297593\n",
            "Train Epoch: 10 [6400/60000 (11%)]\tLoss: 0.045569\n",
            "Train Epoch: 10 [7680/60000 (13%)]\tLoss: 0.053370\n",
            "Train Epoch: 10 [8960/60000 (15%)]\tLoss: 0.080586\n",
            "Train Epoch: 10 [10240/60000 (17%)]\tLoss: 0.073907\n",
            "Train Epoch: 10 [11520/60000 (19%)]\tLoss: 0.039645\n",
            "Train Epoch: 10 [12800/60000 (21%)]\tLoss: 0.066739\n",
            "Train Epoch: 10 [14080/60000 (23%)]\tLoss: 0.193555\n",
            "Train Epoch: 10 [15360/60000 (26%)]\tLoss: 0.113347\n",
            "Train Epoch: 10 [16640/60000 (28%)]\tLoss: 0.199953\n",
            "Train Epoch: 10 [17920/60000 (30%)]\tLoss: 0.070724\n",
            "Train Epoch: 10 [19200/60000 (32%)]\tLoss: 0.093499\n",
            "Train Epoch: 10 [20480/60000 (34%)]\tLoss: 0.021259\n",
            "Train Epoch: 10 [21760/60000 (36%)]\tLoss: 0.030067\n",
            "Train Epoch: 10 [23040/60000 (38%)]\tLoss: 0.040708\n",
            "Train Epoch: 10 [24320/60000 (41%)]\tLoss: 0.029233\n",
            "Train Epoch: 10 [25600/60000 (43%)]\tLoss: 0.032110\n",
            "Train Epoch: 10 [26880/60000 (45%)]\tLoss: 0.020681\n",
            "Train Epoch: 10 [28160/60000 (47%)]\tLoss: 0.062798\n",
            "Train Epoch: 10 [29440/60000 (49%)]\tLoss: 0.034735\n",
            "Train Epoch: 10 [30720/60000 (51%)]\tLoss: 0.186060\n",
            "Train Epoch: 10 [32000/60000 (53%)]\tLoss: 0.111416\n",
            "Train Epoch: 10 [33280/60000 (55%)]\tLoss: 0.034518\n",
            "Train Epoch: 10 [34560/60000 (58%)]\tLoss: 0.100731\n",
            "Train Epoch: 10 [35840/60000 (60%)]\tLoss: 0.069112\n",
            "Train Epoch: 10 [37120/60000 (62%)]\tLoss: 0.027299\n",
            "Train Epoch: 10 [38400/60000 (64%)]\tLoss: 0.106512\n",
            "Train Epoch: 10 [39680/60000 (66%)]\tLoss: 0.134797\n",
            "Train Epoch: 10 [40960/60000 (68%)]\tLoss: 0.089776\n",
            "Train Epoch: 10 [42240/60000 (70%)]\tLoss: 0.050935\n",
            "Train Epoch: 10 [43520/60000 (72%)]\tLoss: 0.097101\n",
            "Train Epoch: 10 [44800/60000 (75%)]\tLoss: 0.106011\n",
            "Train Epoch: 10 [46080/60000 (77%)]\tLoss: 0.055071\n",
            "Train Epoch: 10 [47360/60000 (79%)]\tLoss: 0.109665\n",
            "Train Epoch: 10 [48640/60000 (81%)]\tLoss: 0.092263\n",
            "Train Epoch: 10 [49920/60000 (83%)]\tLoss: 0.141971\n",
            "Train Epoch: 10 [51200/60000 (85%)]\tLoss: 0.077190\n",
            "Train Epoch: 10 [52480/60000 (87%)]\tLoss: 0.109636\n",
            "Train Epoch: 10 [53760/60000 (90%)]\tLoss: 0.050596\n",
            "Train Epoch: 10 [55040/60000 (92%)]\tLoss: 0.062428\n",
            "Train Epoch: 10 [56320/60000 (94%)]\tLoss: 0.043429\n",
            "Train Epoch: 10 [57600/60000 (96%)]\tLoss: 0.064716\n",
            "Train Epoch: 10 [58880/60000 (98%)]\tLoss: 0.104561\n",
            "\n",
            "Train set: Avg. loss: 0.0039, Accuracy: 59296/60000 (99%)\n",
            "\n",
            "\n",
            "Test set: Avg. loss: 0.0007, Accuracy: 9857/10000 (99%)\n",
            "\n"
          ],
          "name": "stdout"
        }
      ]
    },
    {
      "cell_type": "markdown",
      "metadata": {
        "id": "nDmC0EoXaXVs",
        "colab_type": "text"
      },
      "source": [
        "So at the end of 10 epochs, we have train accuracy equal to and test accuracy equal to"
      ]
    },
    {
      "cell_type": "markdown",
      "metadata": {
        "id": "S71iu-LtaheK",
        "colab_type": "text"
      },
      "source": [
        "Lets try to see how the model performs on the individual labels."
      ]
    },
    {
      "cell_type": "code",
      "metadata": {
        "id": "C5FKvzZ59Ain",
        "colab_type": "code",
        "colab": {
          "base_uri": "https://localhost:8080/",
          "height": 187
        },
        "outputId": "af3e8554-f11f-46ce-94a7-9fa344051ac5"
      },
      "source": [
        "classes = (0, 1,2 ,3 ,4 ,5 ,6, 7, 8, 9)\n",
        "class_correct = list(0. for i in range(10))\n",
        "class_total = list(0. for i in range(10))\n",
        "with torch.no_grad():\n",
        "    for data in testloader:\n",
        "        images, labels = data\n",
        "        outputs = net(images)\n",
        "        _, predicted = torch.max(outputs, 1)\n",
        "        c = (predicted == labels).squeeze()\n",
        "        for i in range(4):\n",
        "            label = labels[i]\n",
        "            class_correct[label] += c[i].item()\n",
        "            class_total[label] += 1\n",
        "\n",
        "\n",
        "for i in range(10):\n",
        "    print('Accuracy of %5s : %2d %%' % (\n",
        "        classes[i], 100 * class_correct[i] / class_total[i]))"
      ],
      "execution_count": null,
      "outputs": [
        {
          "output_type": "stream",
          "text": [
            "Accuracy of     0 : 100 %\n",
            "Accuracy of     1 : 97 %\n",
            "Accuracy of     2 : 95 %\n",
            "Accuracy of     3 : 98 %\n",
            "Accuracy of     4 : 97 %\n",
            "Accuracy of     5 : 95 %\n",
            "Accuracy of     6 : 96 %\n",
            "Accuracy of     7 : 98 %\n",
            "Accuracy of     8 : 100 %\n",
            "Accuracy of     9 : 98 %\n"
          ],
          "name": "stdout"
        }
      ]
    },
    {
      "cell_type": "code",
      "metadata": {
        "id": "45e9n8DIDdIL",
        "colab_type": "code",
        "colab": {}
      },
      "source": [
        ""
      ],
      "execution_count": null,
      "outputs": []
    }
  ]
}